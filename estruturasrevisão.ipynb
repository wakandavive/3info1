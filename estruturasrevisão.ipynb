{
  "nbformat": 4,
  "nbformat_minor": 0,
  "metadata": {
    "colab": {
      "name": "estruturasrevisão.ipynb",
      "provenance": [],
      "authorship_tag": "ABX9TyNn772AfZQfpXI+kICEx4Xs",
      "include_colab_link": true
    },
    "kernelspec": {
      "name": "python3",
      "display_name": "Python 3"
    },
    "language_info": {
      "name": "python"
    }
  },
  "cells": [
    {
      "cell_type": "markdown",
      "metadata": {
        "id": "view-in-github",
        "colab_type": "text"
      },
      "source": [
        "<a href=\"https://colab.research.google.com/github/wakandavive/3info1/blob/main/estruturasrevis%C3%A3o.ipynb\" target=\"_parent\"><img src=\"https://colab.research.google.com/assets/colab-badge.svg\" alt=\"Open In Colab\"/></a>"
      ]
    },
    {
      "cell_type": "code",
      "metadata": {
        "id": "O--vsh-bvX1t"
      },
      "source": [
        "#Determine se um ano é bissexto.\n",
        "\n",
        "entrada = int(input(\"coloca algum ano:\"))\n",
        "\n",
        "if (entrada%4==0 and entrada%100!=0) or (entrada%400==0):\n",
        "    print('Bissexto')\n",
        "else:\n",
        "    print('Não é bissexto')"
      ],
      "execution_count": null,
      "outputs": []
    },
    {
      "cell_type": "code",
      "metadata": {
        "id": "FuJE88UAwXz7"
      },
      "source": [
        "#Faça um Programa que leia três números e mostre o maior deles.\n",
        "num1 = int(input(\"digite um número:\"))\n",
        "num2 = int(input(\"digite um número:\"))\n",
        "num3 = int(input(\"digite um número:\"))\n",
        "\n",
        "if (num1 > num2):\n",
        "  print( num1, \"numero é o maior\")\n",
        "elif (num2> num1):\n",
        "  print(num2, \"número é o maior\")\n",
        "else:\n",
        "  print(num3, \"é o numero maior\")\n",
        "  "
      ],
      "execution_count": null,
      "outputs": []
    },
    {
      "cell_type": "code",
      "metadata": {
        "id": "1W-Zbf1dxsVp"
      },
      "source": [
        "#Faça um Programa que leia três números e mostre o maior e o menor deles.\n",
        "\n",
        "num1 = int(input(\"digite um número:\"))\n",
        "num2 = int(input(\"digite um número:\"))\n",
        "num3 = int(input(\"digite um número:\"))\n",
        "\n",
        "if (num1 < num2):\n",
        "  print( num1, \"numero é o menor\")\n",
        "elif (num2 < num1):\n",
        "  print(num2, \"número é o menor\")\n",
        "else:\n",
        "  print(num3, \"é o numero menor\")"
      ],
      "execution_count": null,
      "outputs": []
    },
    {
      "cell_type": "code",
      "metadata": {
        "id": "DLY_WkhnyGo-"
      },
      "source": [
        "#Faça um Programa que peça os três lados de um triângulo. O programa deverá informar se os valores podem ser \n",
        "#um triângulo. Indique, caso os lados formem um triângulo, se o mesmo é: equilátero, isósceles ou escaleno. \n",
        "\n",
        "l1 = int(input(\"Lado 1: \"))\n",
        "l2 = int(input(\"Lado 2: \"))\n",
        "l3 = int(input(\"Lado 3: \"))\n",
        "\n",
        "if l1 > (l2 + l3) or l2 > (l1 + l3) or l3 > (l1 + l2):\n",
        "\tprint(\"Não pode ser um triangulo\")\n",
        "elif l1 == l2 == l3:\n",
        "\tprint(\"Equilatero\")\n",
        "elif l1 == l2 or l1 == l3 or l2 == l3:\n",
        "\tprint(\"Isósceles\")\n",
        "else:\n",
        "\tprint(\"Escaleno\")\n",
        " "
      ],
      "execution_count": null,
      "outputs": []
    },
    {
      "cell_type": "code",
      "metadata": {
        "id": "M-M0R2jD0YQ0"
      },
      "source": [
        "#“Faça um programa para uma loja de tintas. O programa deverá pedir o tamanho em metros quadrados da área a ser pintada....\n",
        "import math\n",
        "\n",
        "metros = int(input(\"Digite a quantidade de metros quadrados a serem pintados: \"))\n",
        "litros = metros / 3\n",
        "\n",
        "precoL = 80.0\n",
        "capacidadeL = 18\n",
        "\n",
        "latas = litros / capacidadeL\n",
        "total = latas * precoL\n",
        "\n",
        "print('Você usara ', math.ceil(latas),'latas de tinta')\n",
        "print('O preco total é de: R$',round(total, 2))"
      ],
      "execution_count": null,
      "outputs": []
    }
  ]
}