{
  "nbformat": 4,
  "nbformat_minor": 0,
  "metadata": {
    "colab": {
      "name": "POO_kauãJotta3info1.ipynb",
      "provenance": [],
      "authorship_tag": "ABX9TyNowvI47NhUNx4M8si9Yq5P",
      "include_colab_link": true
    },
    "kernelspec": {
      "name": "python3",
      "display_name": "Python 3"
    },
    "language_info": {
      "name": "python"
    }
  },
  "cells": [
    {
      "cell_type": "markdown",
      "metadata": {
        "id": "view-in-github",
        "colab_type": "text"
      },
      "source": [
        "<a href=\"https://colab.research.google.com/github/wakandavive/3info1/blob/main/POO_kau%C3%A3Jotta3info1.ipynb\" target=\"_parent\"><img src=\"https://colab.research.google.com/assets/colab-badge.svg\" alt=\"Open In Colab\"/></a>"
      ]
    },
    {
      "cell_type": "code",
      "metadata": {
        "id": "ccyoIpU-WQD-"
      },
      "source": [
        ""
      ],
      "execution_count": null,
      "outputs": []
    },
    {
      "cell_type": "markdown",
      "metadata": {
        "id": "oN1xZa8MWQtP"
      },
      "source": [
        "Exercícios 5 e 6:"
      ]
    },
    {
      "cell_type": "code",
      "metadata": {
        "id": "oQHtjs_5WZ4i"
      },
      "source": [
        "class Usuario:\n",
        "  nome = \"\"\n",
        "  sobrenome = \"\"\n",
        "\n",
        "  def hello(self):\n",
        "    return \"Olá\"\n",
        "\n",
        "usuario1 = Usuario()\n",
        "usuario1.nome = \"José\"\n",
        "usuario1.sobrenome = \"Roberto\"\n",
        "\n",
        "\n",
        "hello = usuario1.hello()\n",
        "\n",
        "print(hello + \",\" + usuario1.nome + \",\" + usuario1.sobrenome)"
      ],
      "execution_count": null,
      "outputs": []
    },
    {
      "cell_type": "markdown",
      "metadata": {
        "id": "NSC_MprXZPxS"
      },
      "source": [
        "Final:"
      ]
    },
    {
      "cell_type": "code",
      "metadata": {
        "colab": {
          "base_uri": "https://localhost:8080/"
        },
        "id": "IhMl81qRZLC2",
        "outputId": "ac5c4f98-0cb2-4ddc-b7b6-371b20615095"
      },
      "source": [
        "class Usuario:\n",
        "  nome = \"\"\n",
        "  sobrenome = \"\"\n",
        "\n",
        "  def hello(self):\n",
        "    return \"Olá\"\n",
        "\n",
        "usuario2 = Usuario()\n",
        "usuario2.nome = \"José\"\n",
        "usuario2.sobrenome = \"Roberto\"\n",
        "\n",
        "\n",
        "hello = usuario1.hello()\n",
        "\n",
        "print(hello + \", \" + usuario2.nome + \" \" + usuario2.sobrenome)"
      ],
      "execution_count": 6,
      "outputs": [
        {
          "output_type": "stream",
          "text": [
            "Olá, José Roberto\n"
          ],
          "name": "stdout"
        }
      ]
    }
  ]
}