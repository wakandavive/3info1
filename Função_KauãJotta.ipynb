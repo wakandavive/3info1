{
  "nbformat": 4,
  "nbformat_minor": 0,
  "metadata": {
    "colab": {
      "name": "Função-KauãJotta.ipynb",
      "provenance": [],
      "authorship_tag": "ABX9TyObBAz3OZK5VKvd1JrMovMr",
      "include_colab_link": true
    },
    "kernelspec": {
      "name": "python3",
      "display_name": "Python 3"
    },
    "language_info": {
      "name": "python"
    }
  },
  "cells": [
    {
      "cell_type": "markdown",
      "metadata": {
        "id": "view-in-github",
        "colab_type": "text"
      },
      "source": [
        "<a href=\"https://colab.research.google.com/github/wakandavive/3info1/blob/main/Fun%C3%A7%C3%A3o_Kau%C3%A3Jotta.ipynb\" target=\"_parent\"><img src=\"https://colab.research.google.com/assets/colab-badge.svg\" alt=\"Open In Colab\"/></a>"
      ]
    },
    {
      "cell_type": "code",
      "metadata": {
        "id": "5VRzz81enPdQ"
      },
      "source": [
        "#Faça uma função para converter uma temperatura em graus Fahrenheit para Celsius. A temperatura em Fahrenheit é o dado de entrada e a temperatura em Celsius é o dado de saída. Utilize a fórmula C = (F - 32) * 5/9, onde F é a temperatura em Fahrenheit e C é a temperatura em Celsius.\n",
        "\n",
        "def f_fahrenheit(F):\n",
        "  C = (F-32) * 5/9\n",
        "  return C\n",
        "\n",
        "f_fahrenheit(255)\n"
      ],
      "execution_count": null,
      "outputs": []
    },
    {
      "cell_type": "code",
      "metadata": {
        "id": "IdNLHmNcoR5q"
      },
      "source": [
        "# Faça uma função que calcule a hipotenusa. Os catetos são os dados de entrada e a hipotenusa é o dado de saída.\n",
        "def hipotenusa(a, b):\n",
        "  h = ((a**2) + (b**2)) ** 0.5\n",
        "  return h\n",
        "\n",
        "#Teste Função\n",
        "hipotenusa(52, 44)"
      ],
      "execution_count": null,
      "outputs": []
    },
    {
      "cell_type": "code",
      "metadata": {
        "id": "ClXqGHXypCY5"
      },
      "source": [
        "#  Criar uma função que calcule e retorne o MAIOR entre dois valores recebidos como parâmetros. Um programa para testar tal função deve ser criado.\n",
        "def maior_que(a, b):\n",
        "  if a > b:\n",
        "    return a\n",
        "  else:\n",
        "    return b\n",
        "\n",
        "#Teste Função\n",
        "maior_que(2, 3)\n",
        "#maior_que(7, 4)"
      ],
      "execution_count": null,
      "outputs": []
    },
    {
      "cell_type": "code",
      "metadata": {
        "id": "HtVOLkHApXZg"
      },
      "source": [
        "#Crie uma função que realize a conversão de Polegadas (pol) para Centímetros (cm), onde pol é passado como parâmetro e cm é retornado. Sabe-se que 1 polegada tem 2.54 centímetros. Crie também um programa para testar tal função.\n",
        "def pol_cm(pol):\n",
        "  cm = pol * 2.54\n",
        "  return cm\n",
        "\n",
        "#Teste Função\n",
        "pol_cm(55)"
      ],
      "execution_count": null,
      "outputs": []
    },
    {
      "cell_type": "code",
      "metadata": {
        "id": "7YoWS6Lzpm4Q"
      },
      "source": [
        "#Criar uma função que calcule e retorne o MAIOR entre dois valores recebidos como parâmetros. Um programa para testar tal função deve ser criado.\n",
        "\n",
        "def maior_que(a, b):\n",
        "  if a > b:\n",
        "    return a\n",
        "  else:\n",
        "    return b\n",
        "\n",
        "#Teste Função\n",
        "maior_que(2, 3)\n",
        "#maior_que(7, 4)"
      ],
      "execution_count": null,
      "outputs": []
    },
    {
      "cell_type": "code",
      "metadata": {
        "id": "Dn49-zbKqO5X"
      },
      "source": [
        "#Escreva um programa para ler as notas das duas avaliações de um aluno no semestre. Faça uma função que receba as duas notas por parâmetro e calcule e escreva a média semestral e a mensagem “PARABÉNS! Você foi aprovado!” somente se o aluno foi aprovado\n",
        "\n",
        "def aprovacao(nota_1, nota_2):\n",
        "  if (nota_1 + nota_2) / 2 >= 6:\n",
        "    print(\"PARABÉNS! VOCÊ FOI APROVADO\")\n",
        "  else:\n",
        "    print(\"ESTUDE MAIS!!\")\n",
        "\n",
        "#Teste Função\n",
        "aprovacao(7, 5)"
      ],
      "execution_count": null,
      "outputs": []
    }
  ]
}