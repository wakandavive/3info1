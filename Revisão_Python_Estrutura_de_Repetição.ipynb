{
  "nbformat": 4,
  "nbformat_minor": 0,
  "metadata": {
    "colab": {
      "name": "Revisão Python - Estrutura de Repetição.ipynb",
      "provenance": [],
      "authorship_tag": "ABX9TyMbnhuRng6qIlbAzCHFEJQg",
      "include_colab_link": true
    },
    "kernelspec": {
      "name": "python3",
      "display_name": "Python 3"
    },
    "language_info": {
      "name": "python"
    }
  },
  "cells": [
    {
      "cell_type": "markdown",
      "metadata": {
        "id": "view-in-github",
        "colab_type": "text"
      },
      "source": [
        "<a href=\"https://colab.research.google.com/github/wakandavive/3info1/blob/main/Revis%C3%A3o_Python_Estrutura_de_Repeti%C3%A7%C3%A3o.ipynb\" target=\"_parent\"><img src=\"https://colab.research.google.com/assets/colab-badge.svg\" alt=\"Open In Colab\"/></a>"
      ]
    },
    {
      "cell_type": "code",
      "metadata": {
        "id": "Q0JELup1Mo-m"
      },
      "source": [
        "#1. Faça um algoritmo que: • leia 20 números inteiros;• escreva os números que são negativos;• escreva a média dos números positivos.\n",
        "\n",
        "def numeros_negativos_media(a,b):\n",
        "  if a > b:\n",
        "    a, b = b, a\n",
        "  if b - a < 20:\n",
        "    return \"Diferença minima de 20\"\n",
        "  negativos = []\n",
        "  soma = 0\n",
        "  cont = 0\n",
        "  for x in range(a, b):\n",
        "    cont += 1\n",
        "    soma += x\n",
        "    if x < 0:\n",
        "      negativos.append(x)\n",
        "  media = soma / cont \n",
        "  return media, negativos\n",
        "\n"
      ],
      "execution_count": 1,
      "outputs": []
    },
    {
      "cell_type": "code",
      "metadata": {
        "id": "VE4QoNnUN9og"
      },
      "source": [
        "#2.Faça um algoritmo que leia 15 números inteiros e escreva, para cada número lido, se é par ou ímpar.\n",
        "\n",
        "def par_ou_impar(a,b):\n",
        "  if a > b:\n",
        "    a, b = b, a\n",
        "  if b - a < 15:\n",
        "    return \"Diferença minima de 15\"\n",
        "  lista = []\n",
        "  for x in range(a, b):\n",
        "    if x % 2 == 0:\n",
        "      lista.append([x, \"é par\"])\n",
        "    else: \n",
        "      lista.append([x, \"é impar\"])\n",
        "  return lista\n",
        "\n"
      ],
      "execution_count": null,
      "outputs": []
    },
    {
      "cell_type": "code",
      "metadata": {
        "id": "WGtVMB6IOD3V"
      },
      "source": [
        "#3. Dado um conjunto de valores inteiros positivos, determinar qual o menor e qual o maior valor do conjunto.\n",
        "\n",
        "def maior_menor(a, b):\n",
        "  if b > a:\n",
        "    a, b = b, a\n",
        "  maior_n = 0\n",
        "  menor_n = 0\n",
        "  for x in range(a,b):\n",
        "    if x <= 0:\n",
        "      break\n",
        "    if x > maiorn: \n",
        "      maiorn = x\n",
        "    if x < menorn:\n",
        "      menorn = x\n",
        "  return maior_n, menor_n\n"
      ],
      "execution_count": null,
      "outputs": []
    },
    {
      "cell_type": "code",
      "metadata": {
        "id": "FiyGXqOyOGOG"
      },
      "source": [
        "#4. Faça um algoritmo que calcule e escreva a soma dos números pares e a soma dos números ímpares entre 1 e 100.\n",
        "\n",
        "\n",
        "def soma_par_impar():\n",
        "  soma_par = 0\n",
        "  soma_impar = 0\n",
        "  for x in range(1, 101):\n",
        "    if x % 2 == 0:\n",
        "      soma_par += x\n",
        "    else: \n",
        "      soma_impar += x\n",
        "  return \"soma dos pares é: \", soma_par, \"soma dos impares é: \", soma_impar\n",
        "soma_par_impar()\n",
        "\n"
      ],
      "execution_count": null,
      "outputs": []
    },
    {
      "cell_type": "code",
      "metadata": {
        "id": "PGFTZ3pHOL4X"
      },
      "source": [
        "#5. Faça um algoritmo que leia a altura de 20 pessoas e calcule a média aritmética das alturas.\n",
        "\n",
        "def alturas_media(lista_com_alturas):\n",
        "  if len(lista_com_alturas) < 20:\n",
        "    return \"tamanho minimo 20\"\n",
        "  soma = sum(lista_com_alturas)\n",
        "  return soma / len(lista_com_alturas)\n",
        "\n"
      ],
      "execution_count": null,
      "outputs": []
    },
    {
      "cell_type": "code",
      "metadata": {
        "id": "vcLhQNh-OOV-"
      },
      "source": [
        "#6. Faça um algoritmo que leia n valores inteiros e escreva quantos desses valores são negativos.\n",
        "\n",
        "def qnt_negativos(n):\n",
        "\n",
        "  count = 0\n",
        "  for x in n:\n",
        "    if x < 0:\n",
        "      count += 1\n",
        "  return count\n",
        "\n"
      ],
      "execution_count": null,
      "outputs": []
    },
    {
      "cell_type": "code",
      "metadata": {
        "id": "UTnnBuZNOQJH"
      },
      "source": [
        "#7 Faça um algoritmo que leia a quantidade de tinta que uma caneta...\n",
        "\n",
        "def perde_massa(massa):\n",
        "  s = 0\n",
        "  massa_atual = massa\n",
        "  while massa_atual > 0.5:\n",
        "    s += 50\n",
        "    massa_atual = massa_atual / 2\n",
        "  return massa, massa_atual, s\n",
        "  perde_massa(2)"
      ],
      "execution_count": null,
      "outputs": []
    }
  ]
}