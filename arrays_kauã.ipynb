{
  "nbformat": 4,
  "nbformat_minor": 0,
  "metadata": {
    "colab": {
      "name": "arrays-kauã.ipynb",
      "provenance": [],
      "collapsed_sections": [],
      "authorship_tag": "ABX9TyO69Yh0yxtpKkZ6GwLUbc4u",
      "include_colab_link": true
    },
    "kernelspec": {
      "name": "python3",
      "display_name": "Python 3"
    },
    "language_info": {
      "name": "python"
    }
  },
  "cells": [
    {
      "cell_type": "markdown",
      "metadata": {
        "id": "view-in-github",
        "colab_type": "text"
      },
      "source": [
        "<a href=\"https://colab.research.google.com/github/wakandavive/3info1/blob/main/arrays_kau%C3%A3.ipynb\" target=\"_parent\"><img src=\"https://colab.research.google.com/assets/colab-badge.svg\" alt=\"Open In Colab\"/></a>"
      ]
    },
    {
      "cell_type": "code",
      "metadata": {
        "id": "uqwcRIxbIJs8"
      },
      "source": [
        "#1 Inicializar um vetor de inteiros com números de 0 a 99.\n",
        "\n",
        "lista = list(range(100))\n",
        "print(lista)\n"
      ],
      "execution_count": null,
      "outputs": []
    },
    {
      "cell_type": "code",
      "metadata": {
        "id": "gaipA6jMJbIw"
      },
      "source": [
        "#2 Escreva um algoritmo que leia um conjunto de 10 notas, armazene-as em uma variável composta chamada NOTA e calcule e imprima a sua média.\n",
        "\n",
        "notas = []\n",
        "soma = 0.0\n",
        "for i in range(10):\n",
        "  notas.append(float(input(\"digite sua nota[%i]:\" % i )))\n",
        "  soma = soma + notas[i]\n",
        "media = soma / 10.0\n",
        "for i  in range(len(notas)):\n",
        "  print(\"Nota[%i]  = %.2f - Media = %2f\" % (i, notas[i],media))\n",
        "\n",
        "\n"
      ],
      "execution_count": null,
      "outputs": []
    },
    {
      "cell_type": "code",
      "metadata": {
        "id": "pryecVxsQg_A",
        "colab": {
          "base_uri": "https://localhost:8080/"
        },
        "outputId": "75316275-b035-4582-b69e-e80517f0b15e"
      },
      "source": [
        " #3\n",
        " \n",
        "def encontrar_trinta():\n",
        "  import random\n",
        "  my_list = []\n",
        "  for x in range(0,101):\n",
        "    x = random.randint(25,35)\n",
        "    my_list.append(x)\n",
        "  indices = [i for i, x in enumerate(my_list) if x == 30]\n",
        "  return indices\n",
        "encontrar_trinta()\n"
      ],
      "execution_count": 7,
      "outputs": [
        {
          "output_type": "execute_result",
          "data": {
            "text/plain": [
              "[25, 28, 41, 44, 45, 56, 57, 58, 64, 69, 76, 77, 79, 90]"
            ]
          },
          "metadata": {
            "tags": []
          },
          "execution_count": 7
        }
      ]
    },
    {
      "cell_type": "code",
      "metadata": {
        "id": "YZrZnx4Cazqr"
      },
      "source": [
        "#4\n",
        "def trinta_alunos():\n",
        "  import random\n",
        "  lista_notas = []\n",
        "  for x in range(0,11):\n",
        "    x = random.randint(0,10)\n",
        "    if x >= 7:\n",
        "      lista_notas.append(x)\n",
        "  return len(lista_notas), \"nota/notas são acima da media\"\n",
        "  trinta_alunos()"
      ],
      "execution_count": 10,
      "outputs": []
    },
    {
      "cell_type": "code",
      "metadata": {
        "id": "jFqOwB4AL0l_"
      },
      "source": [
        "5#\n",
        "def acima_da_media():\n",
        "  import random\n",
        "  lista_notas = []\n",
        "  for x in range(0,11):\n",
        "    x = random.randint(0,10)\n",
        "    lista_notas.append(x)\n",
        "  media = sum(lista_notas) / len(lista_notas)\n",
        "  notas_acima = []\n",
        "  for x in lista_notas:\n",
        "    if x > media:\n",
        "      notas_acima.append(x)\n",
        "  return len(notas_acima), \"nota/notas são acima da media\"\n",
        "  acima_da_media()\n"
      ],
      "execution_count": null,
      "outputs": []
    }
  ]
}