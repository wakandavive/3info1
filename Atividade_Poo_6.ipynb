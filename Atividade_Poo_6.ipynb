{
  "nbformat": 4,
  "nbformat_minor": 0,
  "metadata": {
    "colab": {
      "name": "Atividade Poo 6.ipynb",
      "provenance": [],
      "authorship_tag": "ABX9TyNqD7+VsHTbcXc3U9vemOEN",
      "include_colab_link": true
    },
    "kernelspec": {
      "name": "python3",
      "display_name": "Python 3"
    },
    "language_info": {
      "name": "python"
    }
  },
  "cells": [
    {
      "cell_type": "markdown",
      "metadata": {
        "id": "view-in-github",
        "colab_type": "text"
      },
      "source": [
        "<a href=\"https://colab.research.google.com/github/wakandavive/3info1/blob/main/Atividade_Poo_6.ipynb\" target=\"_parent\"><img src=\"https://colab.research.google.com/assets/colab-badge.svg\" alt=\"Open In Colab\"/></a>"
      ]
    },
    {
      "cell_type": "markdown",
      "metadata": {
        "id": "af5rSiiG0DfK"
      },
      "source": [
        "ATT 6"
      ]
    },
    {
      "cell_type": "code",
      "metadata": {
        "id": "qDDPK6tj0Amz"
      },
      "source": [
        "class Usuario():\n",
        "  __primeiroNome = \"\"\n",
        "  __ultimoNome = \"\"\n",
        "\n",
        "  def __init__(self, primeiroNome, ultimoNome):\n",
        "    self.__primeiroNome = primeiroNome\n",
        "    self.__ultimoNome = ultimoNome\n",
        "  def getNomeCompleto(self):\n",
        "    return self.__primeiroNome + \" \" + self.__ultimoNome\n",
        "usuario1 = Usuario(\"Johnny\", \"Bravo\")\n",
        "print(usuario1.getNomeCompleto())"
      ],
      "execution_count": null,
      "outputs": []
    }
  ]
}