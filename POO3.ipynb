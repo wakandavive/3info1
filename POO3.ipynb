{
  "nbformat": 4,
  "nbformat_minor": 0,
  "metadata": {
    "colab": {
      "name": "POO3.ipynb",
      "provenance": [],
      "authorship_tag": "ABX9TyMEGDfcv5At8MLaB+2PWKkT",
      "include_colab_link": true
    },
    "kernelspec": {
      "name": "python3",
      "display_name": "Python 3"
    },
    "language_info": {
      "name": "python"
    }
  },
  "cells": [
    {
      "cell_type": "markdown",
      "metadata": {
        "id": "view-in-github",
        "colab_type": "text"
      },
      "source": [
        "<a href=\"https://colab.research.google.com/github/wakandavive/3info1/blob/main/POO3.ipynb\" target=\"_parent\"><img src=\"https://colab.research.google.com/assets/colab-badge.svg\" alt=\"Open In Colab\"/></a>"
      ]
    },
    {
      "cell_type": "code",
      "metadata": {
        "id": "Dade0VTaQuU1"
      },
      "source": [
        "class Usuario:\n",
        "  # Propriedade\n",
        "  primeiroNome = \"\"\n",
        "  # Metodo que diz Olá ao usuário primeiroNome.\n",
        "  def hello(self):\n",
        "    print(\"Olá, \", self.primeiroNome)\n",
        "    return self\n",
        "  def registrar(self):\n",
        "    print(\">> registrado\")\n",
        "    return self\n",
        "  def mail(self):\n",
        "    print(\">> email enviado\")\n",
        "    return self\n",
        "usuario1 = Usuario()\n",
        "usuario1.primeiroNome = \"Jane\"\n",
        "print(usuario1.hello().registrar().mail())"
      ],
      "execution_count": null,
      "outputs": []
    }
  ]
}