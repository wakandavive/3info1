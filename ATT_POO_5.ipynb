{
  "nbformat": 4,
  "nbformat_minor": 0,
  "metadata": {
    "colab": {
      "name": "ATT POO 5.ipynb",
      "provenance": [],
      "authorship_tag": "ABX9TyMxASkrp/OWziUgere0NY4M",
      "include_colab_link": true
    },
    "kernelspec": {
      "name": "python3",
      "display_name": "Python 3"
    },
    "language_info": {
      "name": "python"
    }
  },
  "cells": [
    {
      "cell_type": "markdown",
      "metadata": {
        "id": "view-in-github",
        "colab_type": "text"
      },
      "source": [
        "<a href=\"https://colab.research.google.com/github/wakandavive/3info1/blob/main/ATT_POO_5.ipynb\" target=\"_parent\"><img src=\"https://colab.research.google.com/assets/colab-badge.svg\" alt=\"Open In Colab\"/></a>"
      ]
    },
    {
      "cell_type": "code",
      "metadata": {
        "id": "KkorWLCr1egi"
      },
      "source": [
        ""
      ],
      "execution_count": null,
      "outputs": []
    },
    {
      "cell_type": "markdown",
      "metadata": {
        "id": "NQ05_t9G1e9Y"
      },
      "source": [
        "ATT 5"
      ]
    },
    {
      "cell_type": "code",
      "metadata": {
        "id": "t0R_XCW71hUP"
      },
      "source": [
        "class Usuario():\n",
        "  __primeiroNome = \"\"\n",
        "  __ultimoNome = \"\"\n",
        "\n",
        "  def __init__(self, primeiroNome, ultimoNome):\n",
        "    self.__primeiroNome = primeiroNome\n",
        "    self.__ultimoNome = ultimoNome\n",
        "  def getNomeCompleto(self):\n",
        "    return self.__primeiroNome + \" \" + self.__ultimoNome\n",
        "usuario1 = Usuario(\"Johnny\", \"Bravo\")\n",
        "print(usuario1.getNomeCompleto())"
      ],
      "execution_count": null,
      "outputs": []
    }
  ]
}