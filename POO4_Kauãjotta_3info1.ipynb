{
  "nbformat": 4,
  "nbformat_minor": 0,
  "metadata": {
    "colab": {
      "name": "POO4_Kauãjotta_3info1.ipynb",
      "provenance": [],
      "include_colab_link": true
    },
    "kernelspec": {
      "name": "python3",
      "display_name": "Python 3"
    },
    "language_info": {
      "name": "python"
    }
  },
  "cells": [
    {
      "cell_type": "markdown",
      "metadata": {
        "id": "view-in-github",
        "colab_type": "text"
      },
      "source": [
        "<a href=\"https://colab.research.google.com/github/wakandavive/3info1/blob/main/POO4_Kau%C3%A3jotta_3info1.ipynb\" target=\"_parent\"><img src=\"https://colab.research.google.com/assets/colab-badge.svg\" alt=\"Open In Colab\"/></a>"
      ]
    },
    {
      "cell_type": "code",
      "metadata": {
        "id": "mitIzK0_vXZ0",
        "colab": {
          "base_uri": "https://localhost:8080/"
        },
        "outputId": "74e1729e-53ea-4277-a0dd-df20f662361a"
      },
      "source": [
        "class Usuario:\n",
        "  __primeiroNome = \"\"\n",
        "  def setNome(self, primeiroNome):\n",
        "    self.__primeiroNome = primeiroNome\n",
        "  def getNome(self):\n",
        "    return \"Olá, meu nome é \" + self.__primeiroNome\n",
        "\n",
        "usuario1 = Usuario()\n",
        "usuario1.setNome(\"jotta\")\n",
        "print (usuario1.getNome())"
      ],
      "execution_count": 1,
      "outputs": [
        {
          "output_type": "stream",
          "text": [
            "Olá, meu nome é jotta\n"
          ],
          "name": "stdout"
        }
      ]
    }
  ]
}