{
  "nbformat": 4,
  "nbformat_minor": 0,
  "metadata": {
    "colab": {
      "name": "RevisãoPython.ipynb",
      "provenance": [],
      "collapsed_sections": [],
      "authorship_tag": "ABX9TyPHOJ0KR+nqF1Mg3HExNFL+",
      "include_colab_link": true
    },
    "kernelspec": {
      "name": "python3",
      "display_name": "Python 3"
    },
    "language_info": {
      "name": "python"
    }
  },
  "cells": [
    {
      "cell_type": "markdown",
      "metadata": {
        "id": "view-in-github",
        "colab_type": "text"
      },
      "source": [
        "<a href=\"https://colab.research.google.com/github/wakandavive/3info1/blob/main/Revis%C3%A3oPython.ipynb\" target=\"_parent\"><img src=\"https://colab.research.google.com/assets/colab-badge.svg\" alt=\"Open In Colab\"/></a>"
      ]
    },
    {
      "cell_type": "code",
      "metadata": {
        "id": "8jOI-kBJ2n03"
      },
      "source": [
        "#1 Faça um programa que peça dois números inteiros e imprima a soma desses dois números\n",
        "\n",
        "number1 = int(input(\"escreva um número inteiro:\"))\n",
        "number2 = int(input(\"Novamente...:\"))\n",
        "soma = number1 + number2\n",
        "\n",
        "print(soma)"
      ],
      "execution_count": null,
      "outputs": []
    },
    {
      "cell_type": "code",
      "metadata": {
        "id": "wFirLP7l3woq"
      },
      "source": [
        "#2 Escreva um programa que leia um valor em metros e o exiba convertido em milímetros\n",
        "\n",
        "metros = int(input(\"De uma metragem:\"))\n",
        "MetrosEmMilimitros = metros * 1000\n",
        "\n",
        "print(metros,\"M\", \"foi para\", MetrosEmMilimitros,\"Mm\")\n"
      ],
      "execution_count": null,
      "outputs": []
    },
    {
      "cell_type": "code",
      "metadata": {
        "id": "JLQfi889Ey9i"
      },
      "source": [
        "#3) Escreva um programa que leia a quantidade de dias, horas, minutos e segundos do usuário. Calcule o total em segundos.\n",
        "\n",
        "dias = int(input(\"Escreva o dia em número inteiro:\"))\n",
        "horas = float(input(\"Escreva a hora no formato: \"))\n",
        "minutos =  float(input(\"escreva os minutos no formato: \"))\n",
        "segundos =  float(input(\"escreva os segundos no formato: \"))\n",
        "\n",
        "conversão = dias *  86400 + horas * 3600 + minutos * 60 + segundos\n",
        "\n",
        "print(\"tempo do usuário totalizado em segundos:\", conversão)\n",
        "\n",
        "\n"
      ],
      "execution_count": null,
      "outputs": []
    },
    {
      "cell_type": "code",
      "metadata": {
        "id": "MdAFb2hD9uP6"
      },
      "source": [
        "#6 Calcule o tempo de uma viagem de carro. Pergunte a distância a percorrer e a velocidade média esperada para a viagem.\n",
        "\n",
        "km = int(input(\"De sua distancia em km:\"))\n",
        "tempo = int(input(\"De a velocidade média espera:\"))\n",
        "\n",
        "tempo = km / tempo\n",
        "\n",
        "print(\"essa velocidade média esperada para viagem em horas --->\", tempo)"
      ],
      "execution_count": null,
      "outputs": []
    },
    {
      "cell_type": "code",
      "metadata": {
        "id": "-BXf8Nsj_PKf"
      },
      "source": [
        "#7 Converta uma temperatura digitada em Celsius para Fahrenheit.\n",
        "\n",
        "celcius = float(input(\"De a temperatura em ºC:\"))\n",
        "conta  =  F = 9*celcius/5 + 32\n",
        "\n",
        "print(\"Sua temperatua convertida para Fahrenheit:\", conta)\n"
      ],
      "execution_count": null,
      "outputs": []
    },
    {
      "cell_type": "code",
      "metadata": {
        "id": "nbyolgpfBVbV"
      },
      "source": [
        "#8) Faça agora o contrário, de Fahrenheit para Celsius.\n",
        "\n",
        "F = float(input(\"De a temperatura em ºF:\"))\n",
        "conta = (F - 32) * 5/9\n",
        "\n",
        "print(\"Sua temperatua convertida para Celcius:\", round(conta, 2),\"ºC\")\n"
      ],
      "execution_count": null,
      "outputs": []
    }
  ]
}