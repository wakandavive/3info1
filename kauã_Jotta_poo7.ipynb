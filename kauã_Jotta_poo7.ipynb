{
  "nbformat": 4,
  "nbformat_minor": 0,
  "metadata": {
    "colab": {
      "name": "kauã Jotta poo7.ipynb",
      "provenance": [],
      "authorship_tag": "ABX9TyN/Kywu27ELiREO5Yr7Ilou",
      "include_colab_link": true
    },
    "kernelspec": {
      "name": "python3",
      "display_name": "Python 3"
    },
    "language_info": {
      "name": "python"
    }
  },
  "cells": [
    {
      "cell_type": "markdown",
      "metadata": {
        "id": "view-in-github",
        "colab_type": "text"
      },
      "source": [
        "<a href=\"https://colab.research.google.com/github/wakandavive/3info1/blob/main/kau%C3%A3_Jotta_poo7.ipynb\" target=\"_parent\"><img src=\"https://colab.research.google.com/assets/colab-badge.svg\" alt=\"Open In Colab\"/></a>"
      ]
    },
    {
      "cell_type": "code",
      "metadata": {
        "id": "NrRbkectlrVq"
      },
      "source": [
        "class Usuario:\n",
        "  pontos = 0\n",
        "  numeroDeArtigos = 0\n",
        "\n",
        "  def setNumeroDeArtigos(self, numeroDeArtigos):\n",
        "    self.numeroDeArtigos = numeroDeArtigos\n",
        "\n",
        "  def getNumeroDeArtigos(self):\n",
        "    return self.numeroDeArtigos\n",
        "  def calcPontuacao(self, numeroDeArtigos):\n",
        "    return self.numeroDeArtigos\n",
        "class Autor(Usuario):\n",
        "  def calcPontuacao(self, numeroDeArtigos):\n",
        "    return numeroDeArtigos * 10 + 20\n",
        "class Editor(Usuario):\n",
        "  def calcPontuacao(self, numeroDeArtigos):\n",
        "    return numeroDeArtigos * 6 + 15\n",
        "\n",
        "autor1 = Autor()\n",
        "autor1.setNumeroDeArtigos(8)\n",
        "print(autor1.calcPontuacao(autor1.getNumeroDeArtigos()))\n",
        "\n",
        "editor1 = Editor()\n",
        "editor1.setNumeroDeArtigos(15)\n",
        "print(editor1.calcPontuacao(editor1.getNumeroDeArtigos()))\n"
      ],
      "execution_count": null,
      "outputs": []
    }
  ]
}