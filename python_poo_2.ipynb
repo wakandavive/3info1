{
  "nbformat": 4,
  "nbformat_minor": 0,
  "metadata": {
    "colab": {
      "name": "python poo 2.ipynb",
      "provenance": [],
      "authorship_tag": "ABX9TyN/ocd0M5eP8nfeAHPVtw7J",
      "include_colab_link": true
    },
    "kernelspec": {
      "name": "python3",
      "display_name": "Python 3"
    },
    "language_info": {
      "name": "python"
    }
  },
  "cells": [
    {
      "cell_type": "markdown",
      "metadata": {
        "id": "view-in-github",
        "colab_type": "text"
      },
      "source": [
        "<a href=\"https://colab.research.google.com/github/wakandavive/3info1/blob/main/python_poo_2.ipynb\" target=\"_parent\"><img src=\"https://colab.research.google.com/assets/colab-badge.svg\" alt=\"Open In Colab\"/></a>"
      ]
    },
    {
      "cell_type": "markdown",
      "metadata": {
        "id": "P22Nzt3cIsDs"
      },
      "source": [
        "Qual palavra-chave (keyword) você usaria para ter acesso às propriedades e métodos de uma classe estando dentro dela? a) A palavra-chave new b) A palavra-chave this c) A palavra-chave self"
      ]
    },
    {
      "cell_type": "code",
      "metadata": {
        "colab": {
          "base_uri": "https://localhost:8080/"
        },
        "id": "Q5TBwt7UIpZ6",
        "outputId": "9de5dcc3-0ab6-4102-aacb-583806e8c852"
      },
      "source": [
        "class Usuario():\n",
        "  # as propriedades\n",
        "  primeiroNome = \"\"\n",
        "  ultimoNome = \"\"\n",
        "  #metodo que diz Olá ao usuario\n",
        "  def hello(self):\n",
        "    return \"hello \" + self.primeiroNome + \" \" + self.ultimoNome\n",
        "\n",
        "teste = Usuario()\n",
        "teste.primeiroNome = \"Jonnie\"\n",
        "teste.ultimoNome = \"Bravo\"\n",
        "print(teste.hello())"
      ],
      "execution_count": 1,
      "outputs": [
        {
          "output_type": "stream",
          "text": [
            "hello Jonnie Bravo\n"
          ],
          "name": "stdout"
        }
      ]
    }
  ]
}