{
  "nbformat": 4,
  "nbformat_minor": 0,
  "metadata": {
    "colab": {
      "name": "kauã Jotta poo6.ipynb",
      "provenance": [],
      "authorship_tag": "ABX9TyOIJlT9Ll7+2eXfZdq+YEqh",
      "include_colab_link": true
    },
    "kernelspec": {
      "name": "python3",
      "display_name": "Python 3"
    },
    "language_info": {
      "name": "python"
    }
  },
  "cells": [
    {
      "cell_type": "markdown",
      "metadata": {
        "id": "view-in-github",
        "colab_type": "text"
      },
      "source": [
        "<a href=\"https://colab.research.google.com/github/wakandavive/3info1/blob/main/kau%C3%A3_Jotta_poo6.ipynb\" target=\"_parent\"><img src=\"https://colab.research.google.com/assets/colab-badge.svg\" alt=\"Open In Colab\"/></a>"
      ]
    },
    {
      "cell_type": "code",
      "metadata": {
        "colab": {
          "base_uri": "https://localhost:8080/"
        },
        "id": "NrRbkectlrVq",
        "outputId": "a99ef7e4-f3e2-4e4b-b383-7769b3189d8c"
      },
      "source": [
        "#1\n",
        "class Usuario():\n",
        "  #2\n",
        "  _nomeUsuario = \"\"\n",
        "  #3\n",
        "  def setNomeUsuario(self, nomeUsuario):\n",
        "    self._nomeUsuario = nomeUsuario\n",
        "  #10\n",
        "  def getNomeUsuario(self):\n",
        "    return self._nomeUsuario\n",
        "#4  \n",
        "class Admin(Usuario):\n",
        "  #5\n",
        "  def escreveNome(self):\n",
        "    return \"Admin \"\n",
        "  #6\n",
        "  def digaOla(self):\n",
        "    return \"Olá Admin, \" + self.getNomeUsuario()\n",
        "#7\n",
        "admin1 = Admin()\n",
        "admin1.setNomeUsuario(\"Ghost\")\n",
        "print(admin1.digaOla())"
      ],
      "execution_count": 1,
      "outputs": [
        {
          "output_type": "stream",
          "text": [
            "Olá Admin, Ghost\n"
          ],
          "name": "stdout"
        }
      ]
    }
  ]
}